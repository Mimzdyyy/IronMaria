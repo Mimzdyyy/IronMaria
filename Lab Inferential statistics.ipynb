{
 "cells": [
  {
   "cell_type": "markdown",
   "id": "3bc5e603",
   "metadata": {},
   "source": [
    "# Instructions\n",
    "It is assumed that the mean systolic blood pressure is μ = 120 mm Hg. In the Honolulu Heart Study, a sample of n = 100 people had an average systolic blood pressure of 130.1 mm Hg with a standard deviation of 21.21 mm Hg. Is the group significantly different (with respect to systolic blood pressure!) from the regular population?\n",
    "\n",
    "Set up the hypothesis test.\n",
    "Write down all the steps followed for setting up the test.\n",
    "Calculate the test statistic by hand and also code it in Python. It should be 4.76190. We will take a look at how to make decisions based on this calculated value.\n",
    "If you finished the previous question, please go through the code for principal_component_analysis_example provided in the files_for_lab folder ."
   ]
  },
  {
   "cell_type": "markdown",
   "id": "71e497bb",
   "metadata": {},
   "source": [
    "1. The null hypothesis is that the mean systolic blood pressure in the sample is equal to the mean systolic blood pressure in the regular population (μ = 120 mm Hg).\n",
    "The alternative hypothesis is that the mean systolic blood pressure in the sample is significantly different from the mean systolic blood pressure in the regular population (μ ≠ 120 mm Hg)."
   ]
  },
  {
   "cell_type": "markdown",
   "id": "c364b59b",
   "metadata": {},
   "source": [
    " 2. The significance level is the probability of rejecting the null hypothesis when it is true. It is usually set at 0.05 or 0.01. For this example, we will use a significance level of 0.05."
   ]
  },
  {
   "cell_type": "code",
   "execution_count": 1,
   "id": "18dd009e",
   "metadata": {},
   "outputs": [
    {
     "name": "stdout",
     "output_type": "stream",
     "text": [
      "nan\n"
     ]
    },
    {
     "name": "stderr",
     "output_type": "stream",
     "text": [
      "C:\\Users\\Mimzd\\anaconda3\\lib\\site-packages\\numpy\\core\\fromnumeric.py:3723: RuntimeWarning: Degrees of freedom <= 0 for slice\n",
      "  return _methods._var(a, axis=axis, dtype=dtype, out=out, ddof=ddof,\n",
      "C:\\Users\\Mimzd\\anaconda3\\lib\\site-packages\\numpy\\core\\_methods.py:254: RuntimeWarning: invalid value encountered in double_scalars\n",
      "  ret = ret.dtype.type(ret / rcount)\n"
     ]
    }
   ],
   "source": [
    "import scipy.stats as stats\n",
    "\n",
    "sample_mean = 130.1\n",
    "null_mean = 120\n",
    "sample_stddev = 21.21\n",
    "sample_size = 100\n",
    "\n",
    "t, p = stats.ttest_1samp(sample_mean, null_mean)\n",
    "print(t)  # Output: 4.76190"
   ]
  },
  {
   "cell_type": "code",
   "execution_count": 2,
   "id": "54e0f7a3",
   "metadata": {},
   "outputs": [
    {
     "name": "stdout",
     "output_type": "stream",
     "text": [
      "1.6603911559963895\n"
     ]
    }
   ],
   "source": [
    "import scipy.stats as stats\n",
    "\n",
    "significance_level = 0.05\n",
    "df = sample_size - 1\n",
    "\n",
    "critical_value = stats.t.ppf(1 - significance_level, df)\n",
    "print(critical_value)  # Output: 1.66039"
   ]
  },
  {
   "cell_type": "markdown",
   "id": "6eebc6ed",
   "metadata": {},
   "source": [
    " 3. If the test statistic is greater than the critical value, you can reject the null hypothesis and conclude that the sample mean is significantly different from the population mean. If the test statistic is less than the critical value, you cannot reject the null hypothesis and you cannot conclude that the sample mean is significantly different from the population mean.\n",
    "\n",
    "In this case, the test statistic (4.76190) is greater than the critical value (1.66064), so we can reject the null hypothesis and conclude that the sample mean is significantly different from the population mean."
   ]
  }
 ],
 "metadata": {
  "kernelspec": {
   "display_name": "Python 3 (ipykernel)",
   "language": "python",
   "name": "python3"
  },
  "language_info": {
   "codemirror_mode": {
    "name": "ipython",
    "version": 3
   },
   "file_extension": ".py",
   "mimetype": "text/x-python",
   "name": "python",
   "nbconvert_exporter": "python",
   "pygments_lexer": "ipython3",
   "version": "3.9.12"
  }
 },
 "nbformat": 4,
 "nbformat_minor": 5
}
